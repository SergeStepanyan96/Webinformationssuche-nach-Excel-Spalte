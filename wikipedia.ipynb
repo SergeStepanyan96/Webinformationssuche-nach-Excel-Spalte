{
 "cells": [
  {
   "attachments": {},
   "cell_type": "markdown",
   "metadata": {},
   "source": [
    "IMPORTS"
   ]
  },
  {
   "cell_type": "code",
   "execution_count": 6,
   "metadata": {},
   "outputs": [],
   "source": [
    "# imports\n",
    "import pandas as pd\n",
    "from selenium import webdriver\n",
    "from selenium.webdriver.common.by import By\n",
    "import time\n",
    "from openpyxl import load_workbook\n",
    "from openpyxl.styles import NamedStyle\n",
    "from openpyxl.utils import get_column_letter\n",
    "from urllib.parse import quote"
   ]
  },
  {
   "attachments": {},
   "cell_type": "markdown",
   "metadata": {},
   "source": [
    "-------------------------------------------------------------------------------"
   ]
  },
  {
   "attachments": {},
   "cell_type": "markdown",
   "metadata": {},
   "source": [
    "DE WEBSCRAPING"
   ]
  },
  {
   "attachments": {},
   "cell_type": "markdown",
   "metadata": {},
   "source": [
    "----------------------------------------------------------"
   ]
  },
  {
   "cell_type": "code",
   "execution_count": null,
   "metadata": {},
   "outputs": [],
   "source": [
    "excel_datei = 'Excel Datei mit Suchbegriffen in erster Spalte.xlsx'  # Dateiname der Excel-Datei\n",
    "df = pd.read_excel(excel_datei)  # DataFrame aus der Excel-Datei lesen\n",
    "spalte_hersteller_ccp = 'Hersteller_CCP'  # Spaltenname für den Hersteller CCP\n",
    "driver = webdriver.Chrome()  # Webdriver initialisieren (Chrome)\n",
    "aktueller_index = 0  # Aktueller Index für die Schleife\n",
    "\n",
    "# Schleife über die Zeilen des DataFrames\n",
    "while aktueller_index < len(df):\n",
    "    wert = df.at[aktueller_index, spalte_hersteller_ccp]  # Wert in der Spalte 'Hersteller_CCP' für den aktuellen Index\n",
    "    if pd.isnull(wert):  # Überprüfen, ob der Wert null ist\n",
    "        break  # Schleife beenden, wenn der Wert null ist\n",
    "    url = f\"https://de.wikipedia.org/wiki/{wert}\"  # URL für die Wikipedia-Seite des Herstellers erstellen\n",
    "    driver.get(url)  # URL im Webdriver öffnen\n",
    "    time.sleep(0.1)  # Kurze Wartezeit\n",
    "\n",
    "    try:\n",
    "        infobox_element = driver.find_element(By.CLASS_NAME, 'infobox')  # Infobox-Element auf der Seite finden\n",
    "\n",
    "        if infobox_element is not None:\n",
    "            rows = infobox_element.find_elements(By.TAG_NAME, 'tr')  # Alle Tabellenzeilen in der Infobox finden\n",
    "            for row in rows:\n",
    "                cells = row.find_elements(By.TAG_NAME, 'td')  # Alle Zellen in der Tabellenzeile finden\n",
    "                if len(cells) >= 2:  # Überprüfen, ob es mindestens zwei Zellen gibt\n",
    "                    spaltenname = cells[0].text.strip().rstrip(':')  # Spaltenname extrahieren\n",
    "                    wert = cells[1].text.strip()  # Wert extrahieren\n",
    "\n",
    "                    df.at[aktueller_index, spaltenname] = wert  # Wert in die entsprechende Spalte des DataFrames einfügen\n",
    "    except:\n",
    "        pass\n",
    "\n",
    "    aktueller_index += 1  # Index für die nächste Iteration erhöhen\n",
    "    time.sleep(0.1)  # Kurze Wartezeit\n",
    "\n",
    "df.to_excel('Gewünschter Name.xlsx', index=False)  # DataFrame als Excel-Datei speichern (ohne Index)\n",
    "driver.quit()  # Webdriver beenden\n"
   ]
  },
  {
   "attachments": {},
   "cell_type": "markdown",
   "metadata": {},
   "source": [
    "DE WEBSITELINKS"
   ]
  },
  {
   "cell_type": "code",
   "execution_count": 8,
   "metadata": {},
   "outputs": [],
   "source": [
    "excel_file_path = 'Gewünschter Name / Neue Excel'  # Pfad zur Excel-Datei\n",
    "sheet_name = 'Sheet1'  # Name des Arbeitsblatts\n",
    "column_name = 'Website'  # Name der Spalte\n",
    "\n",
    "# Excel-Arbeitsmappe und Arbeitsblatt laden\n",
    "workbook = load_workbook(excel_file_path)\n",
    "worksheet = workbook[sheet_name]\n",
    "\n",
    "column_index = None\n",
    "# Suche nach dem Index der Spalte mit dem angegebenen Namen\n",
    "for col in worksheet.iter_cols(1, worksheet.max_column):\n",
    "    if col[0].value == column_name:\n",
    "        column_index = col[0].column\n",
    "        break\n",
    "\n",
    "if column_index:\n",
    "    hyperlink_style = \"Hyperlink\"  # Verwendung des eingebauten Hyperlink-Stils\n",
    "\n",
    "    # Durchlaufe die Zeilen ab der zweiten Zeile in der Spalte mit dem angegebenen Index\n",
    "    for row in worksheet.iter_rows(min_row=2, min_col=column_index, max_col=column_index):\n",
    "        cell = row[0]\n",
    "        if cell.value:\n",
    "            search_query = quote(cell.value)  # URL-codierte Version des Zellwerts\n",
    "            search_link = f'https://{search_query}'  # Suchlink mit dem URL-codierten Wert\n",
    "            worksheet[cell.coordinate].value = cell.value  # Zellwert beibehalten\n",
    "            worksheet[cell.coordinate].hyperlink = search_link  # Hyperlink setzen\n",
    "            worksheet[cell.coordinate].style = hyperlink_style  # Stil des Hyperlinks setzen\n",
    "\n",
    "workbook.save(excel_file_path)  # Arbeitsmappe speichern\n",
    "\n"
   ]
  },
  {
   "attachments": {},
   "cell_type": "markdown",
   "metadata": {},
   "source": [
    "--------------------------------------------------------------------------------------------"
   ]
  },
  {
   "attachments": {},
   "cell_type": "markdown",
   "metadata": {},
   "source": [
    "EN WEBSCRAPING"
   ]
  },
  {
   "attachments": {},
   "cell_type": "markdown",
   "metadata": {},
   "source": [
    "--------------------------------------------------------------------------------------------------"
   ]
  },
  {
   "cell_type": "code",
   "execution_count": null,
   "metadata": {},
   "outputs": [],
   "source": [
    "excel_datei = 'Excel mit Suchbegriffen in erster Spalte.xlsx'  # Pfad zur Excel-Datei\n",
    "df = pd.read_excel(excel_datei)  # DataFrame aus der Excel-Datei erstellen\n",
    "spalte_hersteller_ccp = 'Hersteller_CCP'  # Name der Spalte für Hersteller-CCP\n",
    "driver = webdriver.Chrome()  # Webdriver für Chrome initialisieren\n",
    "aktueller_index = 0  # Startindex für die Iteration\n",
    "\n",
    "while aktueller_index < len(df):\n",
    "    wert = df.at[aktueller_index, spalte_hersteller_ccp]  # Wert in der Spalte Hersteller-CCP für den aktuellen Index abrufen\n",
    "\n",
    "    if pd.isnull(wert):  # Wenn der Wert Null (NaN) ist, die Schleife abbrechen\n",
    "        break\n",
    "\n",
    "    url = f\"https://en.wikipedia.org/wiki/{wert}\"  # URL für die Wikipedia-Seite mit dem Wert erstellen\n",
    "    driver.get(url)  # Die Wikipedia-Seite im WebDriver öffnen\n",
    "    time.sleep(0.1)  # Kurze Wartezeit\n",
    "\n",
    "    try:\n",
    "        infobox_element = driver.find_element(By.CLASS_NAME, 'infobox.vcard')  # Das Infobox-Element mit der Klasse 'infobox.vcard' finden\n",
    "        labels = infobox_element.find_elements(By.CLASS_NAME, 'infobox-label')  # Labels innerhalb der Infobox finden\n",
    "        data = infobox_element.find_elements(By.CLASS_NAME, 'infobox-data')  # Daten innerhalb der Infobox finden\n",
    "\n",
    "        for label, datum in zip(labels, data):  # Schleife über die Labels und Daten\n",
    "            spaltenname = label.text.strip()  # Text des Labels bereinigen und als Spaltenname verwenden\n",
    "            zelleninhalt = datum.text.strip()  # Text der Daten bereinigen und als Zelleninhalt verwenden\n",
    "            df.at[aktueller_index, spaltenname] = zelleninhalt  # Wert in den DataFrame eintragen\n",
    "\n",
    "    except:\n",
    "        pass\n",
    "\n",
    "    aktueller_index += 1  # Den Index für die nächste Iteration erhöhen\n",
    "    time.sleep(0.1)  # Kurze Wartezeit\n",
    "\n",
    "df.to_excel('Gewünschter Name.xlsx', index=False)  # DataFrame in eine Excel-Datei speichern\n",
    "driver.quit()  # Den WebDriver schließen"
   ]
  },
  {
   "attachments": {},
   "cell_type": "markdown",
   "metadata": {},
   "source": [
    "EN WEBSITELINKS"
   ]
  },
  {
   "cell_type": "code",
   "execution_count": 10,
   "metadata": {},
   "outputs": [],
   "source": [
    "excel_file_path = 'Gewünschter Name / Neue Excel'  # Pfad zur Excel-Datei\n",
    "sheet_name = 'Sheet1'  # Name des Arbeitsblatts\n",
    "column_name = 'Website'  # Name der Spalte für die Website-Links\n",
    "\n",
    "workbook = load_workbook(excel_file_path)  # Excel-Datei laden\n",
    "worksheet = workbook[sheet_name]  # Arbeitsblatt auswählen\n",
    "\n",
    "column_index = None\n",
    "for col in worksheet.iter_cols(1, worksheet.max_column):  # Iteration über die Spalten des Arbeitsblatts\n",
    "    if col[0].value == column_name:  # Überprüfen, ob der Spaltenname mit 'Website' übereinstimmt\n",
    "        column_index = col[0].column  # Spaltenindex speichern\n",
    "        break\n",
    "\n",
    "if column_index:  # Wenn der Spaltenindex gefunden wurde\n",
    "    hyperlink_style = \"Hyperlink\"  # Verwendung des integrierten Hyperlink-Stils\n",
    "\n",
    "    for row in worksheet.iter_rows(min_row=2, min_col=column_index, max_col=column_index):\n",
    "        # Iteration über die Zeilen ab der zweiten Zeile in der Website-Spalte\n",
    "        cell = row[0]  # Zelle in der aktuellen Zeile und Spalte\n",
    "\n",
    "        if cell.value:  # Wenn die Zelle einen Wert enthält\n",
    "            search_query = quote(cell.value)  # URL-kodierten Suchbegriff erstellen\n",
    "            search_link = f'https://{search_query}'  # Link für die Suche erstellen\n",
    "\n",
    "            worksheet[cell.coordinate].value = cell.value  # Wert der Zelle beibehalten\n",
    "            worksheet[cell.coordinate].hyperlink = search_link  # Hyperlink für die Zelle festlegen\n",
    "            worksheet[cell.coordinate].style = hyperlink_style  # Stil der Zelle auf Hyperlink setzen\n",
    "\n",
    "workbook.save(excel_file_path)  # Excel-Datei speichern\n",
    "\n"
   ]
  }
 ],
 "metadata": {
  "kernelspec": {
   "display_name": "Python 3",
   "language": "python",
   "name": "python3"
  },
  "language_info": {
   "codemirror_mode": {
    "name": "ipython",
    "version": 3
   },
   "file_extension": ".py",
   "mimetype": "text/x-python",
   "name": "python",
   "nbconvert_exporter": "python",
   "pygments_lexer": "ipython3",
   "version": "3.11.3"
  },
  "orig_nbformat": 4
 },
 "nbformat": 4,
 "nbformat_minor": 2
}
