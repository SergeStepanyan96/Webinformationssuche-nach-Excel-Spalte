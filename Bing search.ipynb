{
 "cells": [
  {
   "attachments": {},
   "cell_type": "markdown",
   "metadata": {},
   "source": [
    "------------------------------------------------------------------------------------------"
   ]
  },
  {
   "attachments": {},
   "cell_type": "markdown",
   "metadata": {},
   "source": [
    "IMPORTS"
   ]
  },
  {
   "attachments": {},
   "cell_type": "markdown",
   "metadata": {},
   "source": [
    "---------------------------------------------------------------------"
   ]
  },
  {
   "cell_type": "code",
   "execution_count": 2,
   "metadata": {},
   "outputs": [],
   "source": [
    "# imports\n",
    "import pandas as pd\n",
    "from selenium import webdriver\n",
    "from selenium.webdriver.common.by import By\n",
    "import time\n",
    "from openpyxl import load_workbook\n",
    "from openpyxl.styles import NamedStyle\n",
    "from openpyxl.utils import get_column_letter\n",
    "from urllib.parse import quote\n",
    "from selenium.webdriver.common.keys import Keys\n",
    "from selenium.webdriver.support.ui import WebDriverWait\n",
    "from selenium.webdriver.support import expected_conditions as EC\n",
    "import random\n",
    "import requests\n",
    "import openpyxl"
   ]
  },
  {
   "attachments": {},
   "cell_type": "markdown",
   "metadata": {},
   "source": [
    "------------------------------------------------------------------------------"
   ]
  },
  {
   "attachments": {},
   "cell_type": "markdown",
   "metadata": {},
   "source": [
    "BING WEBSITE SCRAPE"
   ]
  },
  {
   "attachments": {},
   "cell_type": "markdown",
   "metadata": {},
   "source": [
    "---------------------------------------------------------------------------"
   ]
  },
  {
   "cell_type": "code",
   "execution_count": null,
   "metadata": {},
   "outputs": [],
   "source": [
    "aktueller_index = 0  # Variable zur Verfolgung des aktuellen Index im DataFrame\n",
    "excel_datei = 'Gewünschte Datei.xlsx'  # Pfad zur Excel-Datei\n",
    "df = pd.read_excel(excel_datei)  # Einlesen der Excel-Datei in einen DataFrame\n",
    "spalte_hersteller_ccp = 'Hersteller_CCP'  # Name der Spalte, die den Hersteller enthält\n",
    "\n",
    "driver = webdriver.Chrome()  # Initialisierung des Chrome Webdrivers\n",
    "driver.get(\"https://www.bing.com/search?q=hahaha\")  # Öffnen der Bing-Suchseite im Webbrowser\n",
    "\n",
    "try:\n",
    "    button = WebDriverWait(driver, 3).until(EC.element_to_be_clickable((By.ID, \"bnp_btn_accept\")))\n",
    "    button.click()  # Klick auf den Zustimmungs-Button für Bing-Cookies (sofern vorhanden)\n",
    "except:\n",
    "    pass\n",
    "\n",
    "neue_excel_datei = 'Gewünschter Name (nach ergänzung der Spalte mit Infos).xlsx'  # Name der neuen Excel-Datei\n",
    "wb = load_workbook(excel_datei)  # Laden der vorhandenen Excel-Datei\n",
    "wb.save(neue_excel_datei)  # Speichern der Excel-Datei unter neuem Namen\n",
    "\n",
    "arbeitsmappe = openpyxl.load_workbook(neue_excel_datei)  # Öffnen der neuen Excel-Datei\n",
    "arbeitsblatt = arbeitsmappe['Sheet1']  # Auswahl des Arbeitsblatts\n",
    "arbeitsblatt.cell(row=1, column=arbeitsblatt.max_column + 1).value = 'Website'  # Hinzufügen einer Überschrift zur neuen Spalte\n",
    "arbeitsmappe.save(neue_excel_datei)  # Speichern der aktualisierten Excel-Datei\n",
    "\n",
    "neuer_df = pd.read_excel(neue_excel_datei)  # Einlesen der neuen Excel-Datei in einen DataFrame\n",
    "\n",
    "while aktueller_index < len(df):  # Schleife für jeden Eintrag im DataFrame\n",
    "    wert = df.at[aktueller_index, spalte_hersteller_ccp]  # Wert in der aktuellen Zeile und Spalte abrufen\n",
    "    if pd.isnull(wert):  # Überprüfen, ob der Wert leer ist\n",
    "        break  # Schleife beenden, wenn der Wert leer ist\n",
    "\n",
    "    url = f\"https://www.bing.com/search?q={wert}\"  # URL für die Bing-Suche mit dem aktuellen Wert\n",
    "\n",
    "    try:\n",
    "        driver.get(url)  # Öffnen der Bing-Suche im Webbrowser\n",
    "        wait = WebDriverWait(driver, 2.5)  # Warten auf das Laden der Seite (möglicherweise zu kurz)\n",
    "        wait.until(EC.presence_of_element_located((By.CLASS_NAME, 'l_ecrd_webicon_txt')))  # Warten auf das Laden der Suchergebnisse\n",
    "        W1 = driver.find_element(By.CLASS_NAME, 'l_ecrd_webicon_txt')  # Suchergebnis-Element für die Website\n",
    "        W2 = W1.get_attribute('textContent')  # Textinhalt des Suchergebnisses\n",
    "\n",
    "        if W2 == 'Wikipedia':\n",
    "            pass\n",
    "        else:\n",
    "            arbeitsblatt.cell(row=aktueller_index+2, column=arbeitsblatt.max_column).value = W2  # Aktualisieren des Werts in der neuen Excel-Datei\n",
    "    except:\n",
    "        pass\n",
    "\n",
    "    aktueller_index += 1  # Inkrementieren des Index für die nächste Zeile im DataFrame\n",
    "\n",
    "arbeitsmappe.save(neue_excel_datei)  # Speichern der aktualisierten Excel-Datei\n",
    "neuer_df = pd.read_excel(neue_excel_datei)  # Einlesen der aktualisierten Excel-Datei in einen DataFrame\n",
    "driver.quit()  # Beenden des Chrome Webdrivers"
   ]
  },
  {
   "attachments": {},
   "cell_type": "markdown",
   "metadata": {},
   "source": [
    "---------------------------------------------------------------------------"
   ]
  },
  {
   "attachments": {},
   "cell_type": "markdown",
   "metadata": {},
   "source": [
    "WEBSITE HYPERLINK"
   ]
  },
  {
   "attachments": {},
   "cell_type": "markdown",
   "metadata": {},
   "source": [
    "--------------------------------------------------------------------------"
   ]
  },
  {
   "cell_type": "code",
   "execution_count": null,
   "metadata": {},
   "outputs": [],
   "source": [
    "excel_file_path = 'Gewünschter Name (nach ergänzung der Spalte mit Infos).xlsx'  # Pfad zur Excel-Datei\n",
    "sheet_name = 'Sheet1'  # Name des Arbeitsblatts\n",
    "column_name = 'Website'  # Name der Spalte, die die Website enthält\n",
    "\n",
    "workbook = load_workbook(excel_file_path)  # Laden der Excel-Datei\n",
    "worksheet = workbook[sheet_name]  # Auswahl des Arbeitsblatts\n",
    "column_index = None\n",
    "\n",
    "# Durchsuchen der Spalten, um den Index der gewünschten Spalte zu finden\n",
    "for col in worksheet.iter_cols(1, worksheet.max_column):\n",
    "    if col[0].value == column_name:\n",
    "        column_index = col[0].column\n",
    "        break\n",
    "\n",
    "if column_index:\n",
    "    hyperlink_style = \"Hyperlink\"  # Verwendung des integrierten Hyperlink-Stils\n",
    "\n",
    "    # Iteration über die Zeilen der Spalte\n",
    "    for row in worksheet.iter_rows(min_row=2, min_col=column_index, max_col=column_index):\n",
    "        cell = row[0]\n",
    "\n",
    "        if cell.value:\n",
    "            search_query = quote(cell.value)  # Codierung des Suchbegriffs für die URL\n",
    "            search_link = f'https://{search_query}'  # Erstellen des Suchlinks\n",
    "            worksheet[cell.coordinate].value = cell.value  # Setzen des Zellenwerts\n",
    "            worksheet[cell.coordinate].hyperlink = search_link  # Setzen des Hyperlinks\n",
    "            worksheet[cell.coordinate].style = hyperlink_style  # Setzen des Hyperlink-Stils\n",
    "\n",
    "workbook.save(excel_file_path)  # Speichern der aktualisierten Excel-Datei"
   ]
  }
 ],
 "metadata": {
  "kernelspec": {
   "display_name": "Python 3",
   "language": "python",
   "name": "python3"
  },
  "language_info": {
   "codemirror_mode": {
    "name": "ipython",
    "version": 3
   },
   "file_extension": ".py",
   "mimetype": "text/x-python",
   "name": "python",
   "nbconvert_exporter": "python",
   "pygments_lexer": "ipython3",
   "version": "3.11.3"
  },
  "orig_nbformat": 4
 },
 "nbformat": 4,
 "nbformat_minor": 2
}
