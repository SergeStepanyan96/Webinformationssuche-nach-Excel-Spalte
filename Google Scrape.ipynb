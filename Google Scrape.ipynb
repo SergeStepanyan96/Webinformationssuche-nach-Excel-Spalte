{
 "cells": [
  {
   "attachments": {},
   "cell_type": "markdown",
   "metadata": {},
   "source": [
    "-----------------------------------------------------------------------------------------"
   ]
  },
  {
   "attachments": {},
   "cell_type": "markdown",
   "metadata": {},
   "source": [
    "IMPORTS"
   ]
  },
  {
   "attachments": {},
   "cell_type": "markdown",
   "metadata": {},
   "source": [
    "-------------------------------------------------------------------------------"
   ]
  },
  {
   "cell_type": "code",
   "execution_count": 1,
   "metadata": {},
   "outputs": [],
   "source": [
    "# imports\n",
    "import pandas as pd\n",
    "from selenium import webdriver\n",
    "from selenium.webdriver.common.by import By\n",
    "import time\n",
    "from openpyxl import load_workbook\n",
    "from openpyxl.styles import NamedStyle\n",
    "from openpyxl.utils import get_column_letter\n",
    "from urllib.parse import quote\n",
    "from selenium.webdriver.common.keys import Keys\n",
    "from selenium.webdriver.support.ui import WebDriverWait\n",
    "from selenium.webdriver.support import expected_conditions as EC\n",
    "import random\n",
    "import requests"
   ]
  },
  {
   "attachments": {},
   "cell_type": "markdown",
   "metadata": {},
   "source": [
    "-----------------------------------------------------------------"
   ]
  },
  {
   "attachments": {},
   "cell_type": "markdown",
   "metadata": {},
   "source": [
    "PROXY CHECK"
   ]
  },
  {
   "attachments": {},
   "cell_type": "markdown",
   "metadata": {},
   "source": [
    "-----------------------------------------------------------------------\n"
   ]
  },
  {
   "cell_type": "code",
   "execution_count": 2,
   "metadata": {},
   "outputs": [],
   "source": [
    "with open('proxy_list.txt', 'r') as file:\n",
    "    proxy_list = file.readlines()  # Liest die Liste der Proxies aus der Datei  (Die txt Datei mit den Proxys ist eine Liste von Free Proxys aus dem Internet)\n",
    "\n",
    "working_proxies = []  # Eine leere Liste für funktionierende Proxies wird erstellt\n",
    "\n",
    "for proxy in proxy_list:  # Iteration über jeden Proxy in der Liste\n",
    "    proxy = proxy.strip()  # Entfernt Leerzeichen und Zeilenumbrüche am Anfang und Ende des Proxies\n",
    "    try:\n",
    "        response = requests.get('https://www.google.com', proxies={'https': proxy}, timeout=5)\n",
    "        # Sendet eine Anfrage an Google mit dem Proxy und einem Timeout von 5 Sekunden\n",
    "\n",
    "        if response.status_code == 200:  # Überprüft den Statuscode der Antwort\n",
    "            working_proxies.append(proxy)  # Fügt den Proxy zur Liste der funktionierenden Proxies hinzu\n",
    "    except requests.exceptions.RequestException:\n",
    "        pass\n",
    "        # Behandelt Ausnahmen, die während der Anfrage auftreten können, und fährt fort"
   ]
  },
  {
   "attachments": {},
   "cell_type": "markdown",
   "metadata": {},
   "source": [
    "-----------------------------------------------------------------------"
   ]
  },
  {
   "attachments": {},
   "cell_type": "markdown",
   "metadata": {},
   "source": [
    "GOOGLE WEBSCRAPING"
   ]
  },
  {
   "attachments": {},
   "cell_type": "markdown",
   "metadata": {},
   "source": [
    "-----------------------------------------------------------------------"
   ]
  },
  {
   "cell_type": "code",
   "execution_count": null,
   "metadata": {},
   "outputs": [],
   "source": [
    "aktueller_index = 0  # Variable zur Verfolgung des aktuellen Index im DataFrame\n",
    "excel_datei = 'Excel mit suchbegriffen in der ersten Spalte.xlsx'  # Pfad zur Excel-Datei\n",
    "df = pd.read_excel(excel_datei)  # Einlesen der Excel-Datei in einen DataFrame\n",
    "spalte_hersteller_ccp = 'Hersteller_CCP'  # Name der Spalte, die den Hersteller enthält\n",
    "\n",
    "# Erstellung der Proxy-Optionen für den Chrome Webdriver\n",
    "proxy_options = webdriver.ChromeOptions()\n",
    "\n",
    "# Initialisierung des Chrome Webdrivers mit den Proxy-Optionen\n",
    "driver = webdriver.Chrome(options=proxy_options)\n",
    "driver.get(\"https://www.google.com\")  # Öffnen der Google-Startseite im Webbrowser\n",
    "\n",
    "# Klick auf den Zustimmungs-Button für Google-Cookies (sofern vorhanden)\n",
    "try:\n",
    "    button = WebDriverWait(driver, 2).until(EC.element_to_be_clickable((By.ID, \"L2AGLb\"))) # Cookie Akzeptier Bottom finden (als Variable speichern )\n",
    "    button.click() # Akzeptier buttom klicken \n",
    "except:\n",
    "    pass\n",
    "\n",
    "neue_excel_datei = 'Gewünschter Name.xlsx'  # Name der neuen Excel-Datei\n",
    "wb = load_workbook(excel_datei)  # Laden der vorhandenen Excel-Datei\n",
    "wb.save(neue_excel_datei)  # Speichern der Excel-Datei unter neuem Namen\n",
    "\n",
    "neuer_df = pd.read_excel(neue_excel_datei)  # Einlesen der neuen Excel-Datei in einen DataFrame\n",
    "\n",
    "while aktueller_index < len(df):  # Schleife für jeden Eintrag im DataFrame\n",
    "    wert = df.at[aktueller_index, spalte_hersteller_ccp]  # Wert in der aktuellen Zeile und Spalte abrufen\n",
    "    if pd.isnull(wert):  # Überprüfen, ob der Wert leer ist\n",
    "        break  # Schleife beenden, wenn der Wert leer ist\n",
    "\n",
    "    random_proxy = random.choice(working_proxies)  # Auswahl eines zufälligen funktionierenden Proxys\n",
    "    proxy_options.add_argument(f'--proxy-server={random_proxy}')  # Hinzufügen des Proxy-Servers zu den Optionen des Chrome Webdrivers\n",
    "\n",
    "    url = f\"https://www.google.com/search?q={wert}\"  # URL für die Google-Suche mit dem aktuellen Wert\n",
    "\n",
    "    try:\n",
    "        driver.get(url)  # Öffnen der Google-Suche im Webbrowser\n",
    "        wait = WebDriverWait(driver, 5)  # Warten auf das Laden der Seite (möglicherweise zu kurz)\n",
    "        wait.until(EC.presence_of_element_located((By.ID, 'kp-wp-tab-overview')))  # Warten auf das Laden des Suchergebnisses\n",
    "        I1 = driver.find_elements(By.CLASS_NAME, 'rVusze')  # Finden der Suchergebnis-Elemente\n",
    "        for x in I1:\n",
    "            ausgabe = x.text # text als Var speichern\n",
    "            trenn_index = ausgabe.find(':') # Trennstellen als Var speichern\n",
    "            spaltenname = ausgabe[:trenn_index] # Spaltelnamen festlegen\n",
    "            zelleninhalt = ausgabe[trenn_index + 1:] # Zelleninhalte festlegen\n",
    "            neuer_df.at[aktueller_index, spaltenname] = zelleninhalt  # Aktualisieren des Werts in der neuen Excel-Datei\n",
    "    except:\n",
    "        pass\n",
    "\n",
    "    aktueller_index += 1  # Inkrementieren des Index für die nächste Zeile\n",
    "\n",
    "neuer_df.to_excel(neue_excel_datei, index=False)  # Speichern des aktualisierten DataFrames in der neuen Excel-Datei\n",
    "driver.quit()  # Beenden des Chrome Webdrivers\n"
   ]
  }
 ],
 "metadata": {
  "kernelspec": {
   "display_name": "Python 3",
   "language": "python",
   "name": "python3"
  },
  "language_info": {
   "codemirror_mode": {
    "name": "ipython",
    "version": 3
   },
   "file_extension": ".py",
   "mimetype": "text/x-python",
   "name": "python",
   "nbconvert_exporter": "python",
   "pygments_lexer": "ipython3",
   "version": "3.11.3"
  },
  "orig_nbformat": 4
 },
 "nbformat": 4,
 "nbformat_minor": 2
}
